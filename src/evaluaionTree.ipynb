{
 "cells": [
  {
   "cell_type": "code",
   "execution_count": 7,
   "metadata": {},
   "outputs": [
    {
     "name": "stdout",
     "output_type": "stream",
     "text": [
      "Cinq premières lignes des prédictions :\n",
      "[2. 1. 0. 1. 0.]\n",
      "\n",
      "Cinq premières lignes des valeurs réelles :\n",
      "[3 1 2 0 0]\n"
     ]
    }
   ],
   "source": [
    "import numpy as np\n",
    "import pandas as pd\n",
    "\n",
    "def import_data_from_csv(predictions_file, actual_file):\n",
    "    # Importer les prédictions à partir d'un fichier CSV\n",
    "    predictions = np.loadtxt(predictions_file, delimiter=',', dtype=float)\n",
    "\n",
    "    # Importer les valeurs réelles à partir d'un fichier CSV\n",
    "    actual = np.loadtxt(actual_file, delimiter=',', dtype=int)\n",
    "\n",
    "    return predictions, actual\n",
    "\n",
    "def print_data(predictions, actual, num_rows=5):\n",
    "    # Afficher les cinq premières lignes des prédictions\n",
    "    print(\"Cinq premières lignes des prédictions :\")\n",
    "    print(predictions[:num_rows])\n",
    "\n",
    "    # Afficher les cinq premières lignes des valeurs réelles\n",
    "    print(\"\\nCinq premières lignes des valeurs réelles :\")\n",
    "    print(actual[:num_rows])\n",
    "\n",
    "# Utiliser la fonction pour importer et afficher les données\n",
    "predictions, actual = import_data_from_csv('y_pred_DT4.csv', 'y_test.csv')\n",
    "print_data(predictions, actual)\n"
   ]
  },
  {
   "cell_type": "code",
   "execution_count": 8,
   "metadata": {},
   "outputs": [
    {
     "name": "stdout",
     "output_type": "stream",
     "text": [
      "Prédictions (une seule colonne) :\n",
      "[[2]\n",
      " [1]\n",
      " [0]\n",
      " [1]\n",
      " [0]]\n",
      "\n",
      "Valeurs réelles (une seule colonne) :\n",
      "[[3]\n",
      " [1]\n",
      " [2]\n",
      " [0]\n",
      " [0]]\n"
     ]
    }
   ],
   "source": [
    "\n",
    "def reshape_to_single_column(data):\n",
    "    # Convertir les valeurs en entiers et redimensionner en une seule colonne\n",
    "    reshaped_data = data.astype(int).reshape(-1, 1)\n",
    "    return reshaped_data\n",
    "\n",
    "# Exemple d'utilisation\n",
    "predictions = np.array([2., 1., 0., 1., 0.])\n",
    "actual = np.array([3, 1, 2, 0, 0])\n",
    "\n",
    "predictions_single_column = reshape_to_single_column(predictions)\n",
    "actual_single_column = reshape_to_single_column(actual)\n",
    "print(\"Prédictions (une seule colonne) :\")\n",
    "print(predictions_single_column)\n",
    "print(\"\\nValeurs réelles (une seule colonne) :\")\n",
    "print(actual_single_column)\n"
   ]
  },
  {
   "cell_type": "code",
   "execution_count": 9,
   "metadata": {},
   "outputs": [],
   "source": [
    "def calculate_confusion_matrix(actual, predicted, num_classes=4):\n",
    "    # Créer une matrice de confusion vide\n",
    "    confusion_matrix = np.zeros((num_classes, num_classes), dtype=int)\n",
    "\n",
    "    # Remplir la matrice de confusion\n",
    "    for true, pred in zip(actual, predicted):\n",
    "        confusion_matrix[true, pred] += 1\n",
    "\n",
    "    return confusion_matrix"
   ]
  },
  {
   "cell_type": "code",
   "execution_count": 10,
   "metadata": {},
   "outputs": [
    {
     "name": "stdout",
     "output_type": "stream",
     "text": [
      "Matrice de confusion pour y-pred-DT4\n",
      "[[130  19   6   1]\n",
      " [ 15 147   2   2]\n",
      " [ 25  20  44   0]\n",
      " [ 12   8  23   6]]\n",
      "Matrice de confusion pour y-pred-DT5\n",
      "[[126  14  10   6]\n",
      " [ 12 140   9   5]\n",
      " [ 12   5  67   5]\n",
      " [  7   5  16  21]]\n",
      "Matrice de confusion pour y-pred-DT6\n",
      "[[130  14  10   2]\n",
      " [  9 147   3   7]\n",
      " [  9   7  71   2]\n",
      " [  5   7  11  26]]\n"
     ]
    }
   ],
   "source": [
    "predictions1, actual = import_data_from_csv('y_pred_DT4.csv', 'y_test.csv')\n",
    "actual = reshape_to_single_column(actual)\n",
    "predictions1 = reshape_to_single_column(predictions1)\n",
    "matrix1 = calculate_confusion_matrix(actual, predictions1, num_classes=4)\n",
    "print(\"Matrice de confusion pour y-pred-DT4\")\n",
    "print(matrix1)\n",
    "\n",
    "\n",
    "predictions2, actual = import_data_from_csv('y_pred_DT5.csv', 'y_test.csv')\n",
    "actual = reshape_to_single_column(actual)\n",
    "predictions2 = reshape_to_single_column(predictions2)\n",
    "matrix2 = calculate_confusion_matrix(actual, predictions2, num_classes=4)\n",
    "print(\"Matrice de confusion pour y-pred-DT5\")\n",
    "print(matrix2)\n",
    "\n",
    "predictions3, actual = import_data_from_csv('y_pred_DT6.csv', 'y_test.csv')\n",
    "actual = reshape_to_single_column(actual)\n",
    "predictions3 = reshape_to_single_column(predictions3)\n",
    "matrix3 = calculate_confusion_matrix(actual, predictions3, num_classes=4)\n",
    "print(\"Matrice de confusion pour y-pred-DT6\")\n",
    "print(matrix3)"
   ]
  },
  {
   "cell_type": "code",
   "execution_count": 11,
   "metadata": {},
   "outputs": [
    {
     "name": "stdout",
     "output_type": "stream",
     "text": [
      "Métriques pour y-pred-DT4 :\n",
      "Les classes :           Class0      Class1     Class2     Class3\n",
      "Exactitude (Accuracy) : [0.83043478 0.85652174 0.83478261 0.9       ]\n",
      "Précision (Precision) : [0.71428571 0.75773196 0.58666667 0.66666667]\n",
      "Rappel (Recall) :       [0.83333333 0.88554217 0.49438202 0.12244898]\n",
      "Score F1 (F1 Score) :   [0.76923077 0.81666667 0.53658537 0.20689655]\n",
      "\n",
      "Métriques pour y-pred-DT-5 :\n",
      "Les classes :           Class0      Class1     Class2     Class3\n",
      "Exactitude (Accuracy) : [0.8673913  0.89130435 0.87608696 0.90434783]\n",
      "Précision (Precision) : [0.80254777 0.85365854 0.65686275 0.56756757]\n",
      "Rappel (Recall) :       [0.80769231 0.84337349 0.75280899 0.42857143]\n",
      "Score F1 (F1 Score) :   [0.80511182 0.84848485 0.70157068 0.48837209]\n",
      "\n",
      "Métriques pour y-pred-DT6 :\n",
      "Les classes :           Class0      Class1     Class2     Class3\n",
      "Exactitude (Accuracy) : [0.89347826 0.89782609 0.90869565 0.92608696]\n",
      "Précision (Precision) : [0.8496732  0.84       0.74736842 0.7027027 ]\n",
      "Rappel (Recall) :       [0.83333333 0.88554217 0.79775281 0.53061224]\n",
      "Score F1 (F1 Score) :   [0.84142395 0.86217009 0.77173913 0.60465116]\n"
     ]
    }
   ],
   "source": [
    "def calculate_metrics(confusion_matrix):\n",
    "    # Calculer les valeurs de TP, TN, FP, FN\n",
    "    TP = np.diag(confusion_matrix)\n",
    "    FP = np.sum(confusion_matrix, axis=0) - TP\n",
    "    FN = np.sum(confusion_matrix, axis=1) - TP\n",
    "    TN = np.sum(confusion_matrix) - (TP + FP + FN)\n",
    "\n",
    "    # Calculer l'exactitude (accuracy)\n",
    "    accuracy = (TP + TN) / np.sum(confusion_matrix)\n",
    "\n",
    "    # Calculer la précision (precision)\n",
    "    precision = TP / (TP + FP)\n",
    "\n",
    "    # Calculer le rappel (recall)\n",
    "    recall = TP / (TP + FN)\n",
    "\n",
    "    # Calculer le score F1\n",
    "    f1_score = 2 * (precision * recall) / (precision + recall)\n",
    "        # Afficher les métriques\n",
    "    print(\"Les classes :           Class0      Class1     Class2     Class3\")\n",
    "    print(\"Exactitude (Accuracy) :\", accuracy)\n",
    "    print(\"Précision (Precision) :\", precision)\n",
    "    print(\"Rappel (Recall) :      \", recall)\n",
    "    print(\"Score F1 (F1 Score) :  \", f1_score)\n",
    "\n",
    "    return accuracy, precision, recall, f1_score\n",
    "\n",
    "\n",
    "# Calculer les métriques pour chaque matrice de confusion\n",
    "print(\"Métriques pour y-pred-DT4 :\")\n",
    "metrics1 = calculate_metrics(matrix1)\n",
    "print(\"\\nMétriques pour y-pred-DT-5 :\")\n",
    "metrics2 = calculate_metrics(matrix2)\n",
    "print(\"\\nMétriques pour y-pred-DT6 :\")\n",
    "metrics3 = calculate_metrics(matrix3)"
   ]
  }
 ],
 "metadata": {
  "kernelspec": {
   "display_name": "Python 3",
   "language": "python",
   "name": "python3"
  },
  "language_info": {
   "codemirror_mode": {
    "name": "ipython",
    "version": 3
   },
   "file_extension": ".py",
   "mimetype": "text/x-python",
   "name": "python",
   "nbconvert_exporter": "python",
   "pygments_lexer": "ipython3",
   "version": "3.12.3"
  }
 },
 "nbformat": 4,
 "nbformat_minor": 2
}
